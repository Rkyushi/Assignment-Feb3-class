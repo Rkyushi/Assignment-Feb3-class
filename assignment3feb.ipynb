{
 "cells": [
  {
   "cell_type": "code",
   "execution_count": 1,
   "id": "8cff71d9-f96e-44cc-ad17-02460f0f6950",
   "metadata": {},
   "outputs": [
    {
     "name": "stdout",
     "output_type": "stream",
     "text": [
      "[1, 3, 5, 7, 9, 11, 13, 15, 17, 19, 21, 23, 25]\n"
     ]
    }
   ],
   "source": [
    "#Q1. Which keyword is used to create a function? Create a function to return a list of odd numbers in the range of 1 to 25.\n",
    "#The def keyword is used to create a function in Python\n",
    "def odd_numbers():\n",
    "    odd_list = []\n",
    "    for i in range(1, 26):\n",
    "        if i % 2 != 0:\n",
    "            odd_list.append(i)\n",
    "    return odd_list\n",
    "print(odd_numbers())\n"
   ]
  },
  {
   "cell_type": "code",
   "execution_count": 2,
   "id": "129f3b14-3c1e-4bd5-afbf-5a00da83b74d",
   "metadata": {},
   "outputs": [
    {
     "name": "stdout",
     "output_type": "stream",
     "text": [
      "1\n",
      "2\n",
      "3\n",
      "4\n",
      "5\n"
     ]
    }
   ],
   "source": [
    "#Q2. Why *args and **kwargs is used in some functions? Create a function each for *args and **kwargs todemonstrate their use.\n",
    "#The syntax *args and **kwargs are used in function definitions to allow a function to take a variable number of arguments.\n",
    "#*args is used to send a non-keyworded variable length argument list to the function. This allows the function to accept an arbitrary number of arguments, which are then stored as a tuple.\n",
    "#**kwargs is used to send a keyworded variable length argument list to the function. This allows the function to accept an arbitrary number of keyword arguments, which are then stored as a dictionary.\n",
    "def print_args(*args):\n",
    "    for arg in args:\n",
    "        print(arg)\n",
    "print_args(1, 2, 3, 4, 5)"
   ]
  },
  {
   "cell_type": "code",
   "execution_count": 5,
   "id": "1e72606b-42f5-4aa8-bd34-f9a3a3c1a365",
   "metadata": {},
   "outputs": [
    {
     "name": "stdout",
     "output_type": "stream",
     "text": [
      "first_name: Rahul\n",
      "last_name: Kumawat\n",
      "age: 23\n"
     ]
    }
   ],
   "source": [
    "def print_kwargs(**kwargs):\n",
    "    for key, value in kwargs.items():\n",
    "        print(f\"{key}: {value}\")\n",
    "print_kwargs(first_name=\"Rahul\", last_name=\"Kumawat\", age=23)"
   ]
  },
  {
   "cell_type": "code",
   "execution_count": 6,
   "id": "0b09eefa-f304-4f28-b14e-290d2e768048",
   "metadata": {},
   "outputs": [
    {
     "name": "stdout",
     "output_type": "stream",
     "text": [
      "2\n",
      "4\n",
      "6\n",
      "8\n",
      "10\n"
     ]
    }
   ],
   "source": [
    "#Q3. What is an iterator in python? Name the method used to initialise the iterator object and the method used for iteration. Use these methods to print the first five elements of the given list [2, 4, 6, 8, 10, 12, 14, 16, 18,20]\n",
    "#In Python, an iterator is an object that implements the iterator protocol, which consists of two methods: __iter__() and __next__(). \n",
    "#The __iter__() method is used to initialize the iterator object, and the __next__() method is used for iteration\n",
    "list1 = [2, 4, 6, 8, 10, 12, 14, 16, 18, 20]\n",
    "iterator = iter(list1)\n",
    "for i in range(5):\n",
    "    print(next(iterator))\n",
    "#In this example, the iter() function is used to create an iterator object from the list list1. The for loop iterates over the range (0, 5), and the next() function is used to get the next element of the iterator on each iteration. The loop prints the first five elements of the list.\n"
   ]
  },
  {
   "cell_type": "code",
   "execution_count": 7,
   "id": "6ca30f37-839d-4af3-be0e-65d2e4a711d0",
   "metadata": {},
   "outputs": [
    {
     "name": "stdout",
     "output_type": "stream",
     "text": [
      "0\n",
      "1\n",
      "1\n",
      "2\n",
      "3\n",
      "5\n",
      "8\n",
      "13\n",
      "21\n",
      "34\n"
     ]
    }
   ],
   "source": [
    "#Q4. What is a generator function in python? Why yield keyword is used? Give an example of a generator function.\n",
    "# In Python, a generator function is a special type of function that returns an iterator. \n",
    "# The yield keyword is used to return values one at a time, instead of returning a list of values all at once like a normal function. \n",
    "# This makes generator functions more memory-efficient than normal functions, because they only generate values as they are needed, instead of generating all the values at once and storing them in memory.\n",
    "# Here is an example of a generator function that returns the sequence of Fibonacci numbers:\n",
    "# In this example, the fibonacci_gen function generates the sequence of Fibonacci numbers up to the nth number.\n",
    "# The yield keyword is used to return the current value of a on each iteration. The fib_gen variable is assigned the result of calling the fibonacci_gen function, which returns a generator object.\n",
    "# The for loop iterates over the generator object, printing each value in the sequence of Fibonacci numbers.\n",
    "\n",
    "def fibonacci_gen(n):\n",
    "    a, b = 0, 1\n",
    "    for i in range(n):\n",
    "        yield a\n",
    "        a, b = b, a + b\n",
    "fib_gen = fibonacci_gen(10)\n",
    "for i in fib_gen:\n",
    "    print(i)"
   ]
  },
  {
   "cell_type": "code",
   "execution_count": 8,
   "id": "dac55d0f-04c5-4d2e-809b-f11aa90640ce",
   "metadata": {},
   "outputs": [
    {
     "name": "stdout",
     "output_type": "stream",
     "text": [
      "2\n",
      "3\n",
      "5\n",
      "7\n",
      "11\n",
      "13\n",
      "17\n",
      "19\n",
      "23\n",
      "29\n",
      "31\n",
      "37\n",
      "41\n",
      "43\n",
      "47\n",
      "53\n",
      "59\n",
      "61\n",
      "67\n",
      "71\n"
     ]
    }
   ],
   "source": [
    "#Q5. Create a generator function for prime numbers less than 1000. Use the next() method to print the first 20 prime numbers.\n",
    "# In this example, the prime_gen function generates prime numbers by checking each number in the range from 3 to 1000 to see if it is divisible by any of the previous prime numbers. #\n",
    "# If a number is divisible by any of the previous prime numbers, it is not prime and the function moves on to the next number. If a number is not divisible by any of the previous prime numbers, it is added to the list of prime numbers and returned with the yield keyword.\n",
    "# The prime_numbers variable is assigned the result of calling the prime_gen function, which returns a generator object. The for loop uses the next method to print the first 20 prime numbers returned by the generator object\n",
    "\n",
    "def prime_gen():\n",
    "    yield 2\n",
    "    primes = [2]\n",
    "    for i in range(3, 1000):\n",
    "        is_prime = True\n",
    "        for prime in primes:\n",
    "            if i % prime == 0:\n",
    "                is_prime = False\n",
    "                break\n",
    "        if is_prime:\n",
    "            primes.append(i)\n",
    "            yield i\n",
    "prime_numbers = prime_gen()\n",
    "for i in range(20):\n",
    "    print(next(prime_numbers))"
   ]
  },
  {
   "cell_type": "code",
   "execution_count": null,
   "id": "81b5c051-7ab7-444d-b7a1-559e3f7b8ee8",
   "metadata": {},
   "outputs": [],
   "source": []
  }
 ],
 "metadata": {
  "kernelspec": {
   "display_name": "Python 3 (ipykernel)",
   "language": "python",
   "name": "python3"
  },
  "language_info": {
   "codemirror_mode": {
    "name": "ipython",
    "version": 3
   },
   "file_extension": ".py",
   "mimetype": "text/x-python",
   "name": "python",
   "nbconvert_exporter": "python",
   "pygments_lexer": "ipython3",
   "version": "3.10.8"
  }
 },
 "nbformat": 4,
 "nbformat_minor": 5
}
